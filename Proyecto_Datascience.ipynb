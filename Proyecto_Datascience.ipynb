{
  "nbformat": 4,
  "nbformat_minor": 0,
  "metadata": {
    "kernelspec": {
      "display_name": "Python 3",
      "language": "python",
      "name": "python3"
    },
    "language_info": {
      "codemirror_mode": {
        "name": "ipython",
        "version": 3
      },
      "file_extension": ".py",
      "mimetype": "text/x-python",
      "name": "python",
      "nbconvert_exporter": "python",
      "pygments_lexer": "ipython3",
      "version": "3.7.6"
    },
    "colab": {
      "name": "Proyecto Datascience.ipynb",
      "provenance": [],
      "collapsed_sections": []
    }
  },
  "cells": [
    {
      "cell_type": "code",
      "metadata": {
        "id": "mDF9TuX88IoW",
        "outputId": "eca49aa2-85d6-4c0d-f87b-04d54da695c5",
        "colab": {
          "base_uri": "https://localhost:8080/",
          "height": 424
        }
      },
      "source": [
        "# Read Dataset\n",
        "import pandas as pd\n",
        "df = pd.read_excel('celac.xlsx')\n",
        "df"
      ],
      "execution_count": 37,
      "outputs": [
        {
          "output_type": "execute_result",
          "data": {
            "text/html": [
              "<div>\n",
              "<style scoped>\n",
              "    .dataframe tbody tr th:only-of-type {\n",
              "        vertical-align: middle;\n",
              "    }\n",
              "\n",
              "    .dataframe tbody tr th {\n",
              "        vertical-align: top;\n",
              "    }\n",
              "\n",
              "    .dataframe thead th {\n",
              "        text-align: right;\n",
              "    }\n",
              "</style>\n",
              "<table border=\"1\" class=\"dataframe\">\n",
              "  <thead>\n",
              "    <tr style=\"text-align: right;\">\n",
              "      <th></th>\n",
              "      <th>Date</th>\n",
              "      <th>Country</th>\n",
              "      <th>New Cases</th>\n",
              "      <th>New Deaths</th>\n",
              "      <th>Total Cases</th>\n",
              "      <th>Total Deaths</th>\n",
              "    </tr>\n",
              "  </thead>\n",
              "  <tbody>\n",
              "    <tr>\n",
              "      <th>0</th>\n",
              "      <td>2020-03-15</td>\n",
              "      <td>Antigua and Barbuda</td>\n",
              "      <td>1</td>\n",
              "      <td>0</td>\n",
              "      <td>1</td>\n",
              "      <td>0</td>\n",
              "    </tr>\n",
              "    <tr>\n",
              "      <th>1</th>\n",
              "      <td>2020-03-21</td>\n",
              "      <td>Antigua and Barbuda</td>\n",
              "      <td>0</td>\n",
              "      <td>0</td>\n",
              "      <td>1</td>\n",
              "      <td>0</td>\n",
              "    </tr>\n",
              "    <tr>\n",
              "      <th>2</th>\n",
              "      <td>2020-03-22</td>\n",
              "      <td>Antigua and Barbuda</td>\n",
              "      <td>0</td>\n",
              "      <td>0</td>\n",
              "      <td>1</td>\n",
              "      <td>0</td>\n",
              "    </tr>\n",
              "    <tr>\n",
              "      <th>3</th>\n",
              "      <td>2020-03-23</td>\n",
              "      <td>Antigua and Barbuda</td>\n",
              "      <td>0</td>\n",
              "      <td>0</td>\n",
              "      <td>1</td>\n",
              "      <td>0</td>\n",
              "    </tr>\n",
              "    <tr>\n",
              "      <th>4</th>\n",
              "      <td>2020-03-24</td>\n",
              "      <td>Antigua and Barbuda</td>\n",
              "      <td>0</td>\n",
              "      <td>0</td>\n",
              "      <td>1</td>\n",
              "      <td>0</td>\n",
              "    </tr>\n",
              "    <tr>\n",
              "      <th>...</th>\n",
              "      <td>...</td>\n",
              "      <td>...</td>\n",
              "      <td>...</td>\n",
              "      <td>...</td>\n",
              "      <td>...</td>\n",
              "      <td>...</td>\n",
              "    </tr>\n",
              "    <tr>\n",
              "      <th>2991</th>\n",
              "      <td>2020-06-06</td>\n",
              "      <td>Venezuela</td>\n",
              "      <td>58</td>\n",
              "      <td>0</td>\n",
              "      <td>2145</td>\n",
              "      <td>20</td>\n",
              "    </tr>\n",
              "    <tr>\n",
              "      <th>2992</th>\n",
              "      <td>2020-06-07</td>\n",
              "      <td>Venezuela</td>\n",
              "      <td>171</td>\n",
              "      <td>2</td>\n",
              "      <td>2316</td>\n",
              "      <td>22</td>\n",
              "    </tr>\n",
              "    <tr>\n",
              "      <th>2993</th>\n",
              "      <td>2020-06-08</td>\n",
              "      <td>Venezuela</td>\n",
              "      <td>61</td>\n",
              "      <td>0</td>\n",
              "      <td>2377</td>\n",
              "      <td>22</td>\n",
              "    </tr>\n",
              "    <tr>\n",
              "      <th>2994</th>\n",
              "      <td>2020-06-09</td>\n",
              "      <td>Venezuela</td>\n",
              "      <td>96</td>\n",
              "      <td>0</td>\n",
              "      <td>2473</td>\n",
              "      <td>22</td>\n",
              "    </tr>\n",
              "    <tr>\n",
              "      <th>2995</th>\n",
              "      <td>2020-06-10</td>\n",
              "      <td>Venezuela</td>\n",
              "      <td>159</td>\n",
              "      <td>1</td>\n",
              "      <td>2632</td>\n",
              "      <td>23</td>\n",
              "    </tr>\n",
              "  </tbody>\n",
              "</table>\n",
              "<p>2996 rows × 6 columns</p>\n",
              "</div>"
            ],
            "text/plain": [
              "           Date              Country  ...  Total Cases  Total Deaths\n",
              "0    2020-03-15  Antigua and Barbuda  ...            1             0\n",
              "1    2020-03-21  Antigua and Barbuda  ...            1             0\n",
              "2    2020-03-22  Antigua and Barbuda  ...            1             0\n",
              "3    2020-03-23  Antigua and Barbuda  ...            1             0\n",
              "4    2020-03-24  Antigua and Barbuda  ...            1             0\n",
              "...         ...                  ...  ...          ...           ...\n",
              "2991 2020-06-06            Venezuela  ...         2145            20\n",
              "2992 2020-06-07            Venezuela  ...         2316            22\n",
              "2993 2020-06-08            Venezuela  ...         2377            22\n",
              "2994 2020-06-09            Venezuela  ...         2473            22\n",
              "2995 2020-06-10            Venezuela  ...         2632            23\n",
              "\n",
              "[2996 rows x 6 columns]"
            ]
          },
          "metadata": {
            "tags": []
          },
          "execution_count": 37
        }
      ]
    },
    {
      "cell_type": "code",
      "metadata": {
        "id": "ckIrgofj-oI8",
        "outputId": "6a184b3f-24ef-440e-cac0-a6c3d4bfb10d",
        "colab": {
          "base_uri": "https://localhost:8080/"
        }
      },
      "source": [
        "#Dataprocessing\n",
        "df.isnull().values.any()"
      ],
      "execution_count": 38,
      "outputs": [
        {
          "output_type": "execute_result",
          "data": {
            "text/plain": [
              "False"
            ]
          },
          "metadata": {
            "tags": []
          },
          "execution_count": 38
        }
      ]
    },
    {
      "cell_type": "code",
      "metadata": {
        "id": "wSjT1YcML8V8",
        "outputId": "6e98f392-e8a3-4443-af1c-eec6ed427f73",
        "colab": {
          "base_uri": "https://localhost:8080/"
        }
      },
      "source": [
        "#Getting list of countries\n",
        "countries = df['Country'].drop_duplicates()\n",
        "countries"
      ],
      "execution_count": 39,
      "outputs": [
        {
          "output_type": "execute_result",
          "data": {
            "text/plain": [
              "0                    Antigua and Barbuda\n",
              "83                             Argentina\n",
              "179                              Bahamas\n",
              "264                             Barbados\n",
              "349                               Belize\n",
              "428                              Bolivia\n",
              "518                                Chile\n",
              "616                             Colombia\n",
              "708                           Costa Rica\n",
              "803                                 Cuba\n",
              "891                             Dominica\n",
              "971                   Dominican Republic\n",
              "1125                             Ecuador\n",
              "1283                         El Salvador\n",
              "1367                             Grenada\n",
              "1447                           Guatemala\n",
              "1535                              Guyana\n",
              "1623                               Haiti\n",
              "1706                            Honduras\n",
              "1795                             Jamaica\n",
              "1885                              Mexico\n",
              "2040                           Nicaragua\n",
              "2124                              Panama\n",
              "2217                            Paraguay\n",
              "2308                                Peru\n",
              "2403               Saint Kitts and Nevis\n",
              "2480                         Saint Lucia\n",
              "2568    Saint Vincent and the Grenadines\n",
              "2647                            Suriname\n",
              "2730                 Trinidad and Tobago\n",
              "2820                             Uruguay\n",
              "2908                           Venezuela\n",
              "Name: Country, dtype: object"
            ]
          },
          "metadata": {
            "tags": []
          },
          "execution_count": 39
        }
      ]
    },
    {
      "cell_type": "code",
      "metadata": {
        "id": "928SzJyjOF07",
        "outputId": "af889b15-7862-41be-c96c-83be7898d84f",
        "colab": {
          "base_uri": "https://localhost:8080/",
          "height": 282
        }
      },
      "source": [
        "# New cases in Paraguay\n",
        "casos_paraguay = df[df['Country']==\"Paraguay\"]\n",
        "casos_paraguay[\"New Cases\"].plot()"
      ],
      "execution_count": 40,
      "outputs": [
        {
          "output_type": "execute_result",
          "data": {
            "text/plain": [
              "<matplotlib.axes._subplots.AxesSubplot at 0x7f01bd0467b8>"
            ]
          },
          "metadata": {
            "tags": []
          },
          "execution_count": 40
        },
        {
          "output_type": "display_data",
          "data": {
            "image/png": "[encoded data removed]",
            "text/plain": [
              "<Figure size 432x288 with 1 Axes>"
            ]
          },
          "metadata": {
            "tags": [],
            "needs_background": "light"
          }
        }
      ]
    },
    {
      "cell_type": "code",
      "metadata": {
        "id": "9lsr4Z_ROrbF",
        "outputId": "1031b938-ee87-4f11-95e1-15a0ea4f3583",
        "colab": {
          "base_uri": "https://localhost:8080/",
          "height": 282
        }
      },
      "source": [
        "# Total cases in Paraguay\n",
        "casos_paraguay[\"Total Cases\"].plot()"
      ],
      "execution_count": 41,
      "outputs": [
        {
          "output_type": "execute_result",
          "data": {
            "text/plain": [
              "<matplotlib.axes._subplots.AxesSubplot at 0x7f01c78d95c0>"
            ]
          },
          "metadata": {
            "tags": []
          },
          "execution_count": 41
        },
        {
          "output_type": "display_data",
          "data": {
            "image/png": "[encoded data removed]",
            "text/plain": [
              "<Figure size 432x288 with 1 Axes>"
            ]
          },
          "metadata": {
            "tags": [],
            "needs_background": "light"
          }
        }
      ]
    },
    {
      "cell_type": "code",
      "metadata": {
        "id": "LZsQBqYZPzPT",
        "outputId": "a6ad6fd8-66f8-4bbe-e5a2-f97f80a77fa3",
        "colab": {
          "base_uri": "https://localhost:8080/",
          "height": 314
        }
      },
      "source": [
        "# Cases of entire Latin America and Caribbean\n",
        "grouped = df.groupby(\"Date\").sum()\n",
        "grouped.plot(subplots=True) \n",
        "print(\"Total Cases: \", grouped[\"Total Cases\"][-1])\n",
        "print(\"Total Deaths: \", grouped[\"Total Deaths\"][-1])"
      ],
      "execution_count": 42,
      "outputs": [
        {
          "output_type": "stream",
          "text": [
            "Total Cases:  666396\n",
            "Total Deaths:  30811\n"
          ],
          "name": "stdout"
        },
        {
          "output_type": "display_data",
          "data": {
            "image/png": "[encoded data removed]",
            "text/plain": [
              "<Figure size 432x288 with 4 Axes>"
            ]
          },
          "metadata": {
            "tags": [],
            "needs_background": "light"
          }
        }
      ]
    },
    {
      "cell_type": "code",
      "metadata": {
        "id": "CoBc48KtSR2H",
        "outputId": "367f2701-9fef-4ac9-cb67-19ebe8999a22",
        "colab": {
          "base_uri": "https://localhost:8080/",
          "height": 424
        }
      },
      "source": [
        "#Getting only Latam countries data\n",
        "\n",
        "members = pd.read_excel('members of CELAC.xlsx')\n",
        "latam = members[\"Spanish\"].str.replace('\\xa0', '')\n",
        "latam_cases = df[df['Country'].isin(latam)]\n",
        "latam_cases"
      ],
      "execution_count": 43,
      "outputs": [
        {
          "output_type": "execute_result",
          "data": {
            "text/html": [
              "<div>\n",
              "<style scoped>\n",
              "    .dataframe tbody tr th:only-of-type {\n",
              "        vertical-align: middle;\n",
              "    }\n",
              "\n",
              "    .dataframe tbody tr th {\n",
              "        vertical-align: top;\n",
              "    }\n",
              "\n",
              "    .dataframe thead th {\n",
              "        text-align: right;\n",
              "    }\n",
              "</style>\n",
              "<table border=\"1\" class=\"dataframe\">\n",
              "  <thead>\n",
              "    <tr style=\"text-align: right;\">\n",
              "      <th></th>\n",
              "      <th>Date</th>\n",
              "      <th>Country</th>\n",
              "      <th>New Cases</th>\n",
              "      <th>New Deaths</th>\n",
              "      <th>Total Cases</th>\n",
              "      <th>Total Deaths</th>\n",
              "    </tr>\n",
              "  </thead>\n",
              "  <tbody>\n",
              "    <tr>\n",
              "      <th>83</th>\n",
              "      <td>2020-03-04</td>\n",
              "      <td>Argentina</td>\n",
              "      <td>1</td>\n",
              "      <td>0</td>\n",
              "      <td>1</td>\n",
              "      <td>0</td>\n",
              "    </tr>\n",
              "    <tr>\n",
              "      <th>84</th>\n",
              "      <td>2020-03-06</td>\n",
              "      <td>Argentina</td>\n",
              "      <td>1</td>\n",
              "      <td>0</td>\n",
              "      <td>2</td>\n",
              "      <td>0</td>\n",
              "    </tr>\n",
              "    <tr>\n",
              "      <th>85</th>\n",
              "      <td>2020-03-07</td>\n",
              "      <td>Argentina</td>\n",
              "      <td>6</td>\n",
              "      <td>0</td>\n",
              "      <td>8</td>\n",
              "      <td>0</td>\n",
              "    </tr>\n",
              "    <tr>\n",
              "      <th>86</th>\n",
              "      <td>2020-03-08</td>\n",
              "      <td>Argentina</td>\n",
              "      <td>1</td>\n",
              "      <td>1</td>\n",
              "      <td>9</td>\n",
              "      <td>1</td>\n",
              "    </tr>\n",
              "    <tr>\n",
              "      <th>87</th>\n",
              "      <td>2020-03-09</td>\n",
              "      <td>Argentina</td>\n",
              "      <td>3</td>\n",
              "      <td>0</td>\n",
              "      <td>12</td>\n",
              "      <td>1</td>\n",
              "    </tr>\n",
              "    <tr>\n",
              "      <th>...</th>\n",
              "      <td>...</td>\n",
              "      <td>...</td>\n",
              "      <td>...</td>\n",
              "      <td>...</td>\n",
              "      <td>...</td>\n",
              "      <td>...</td>\n",
              "    </tr>\n",
              "    <tr>\n",
              "      <th>2991</th>\n",
              "      <td>2020-06-06</td>\n",
              "      <td>Venezuela</td>\n",
              "      <td>58</td>\n",
              "      <td>0</td>\n",
              "      <td>2145</td>\n",
              "      <td>20</td>\n",
              "    </tr>\n",
              "    <tr>\n",
              "      <th>2992</th>\n",
              "      <td>2020-06-07</td>\n",
              "      <td>Venezuela</td>\n",
              "      <td>171</td>\n",
              "      <td>2</td>\n",
              "      <td>2316</td>\n",
              "      <td>22</td>\n",
              "    </tr>\n",
              "    <tr>\n",
              "      <th>2993</th>\n",
              "      <td>2020-06-08</td>\n",
              "      <td>Venezuela</td>\n",
              "      <td>61</td>\n",
              "      <td>0</td>\n",
              "      <td>2377</td>\n",
              "      <td>22</td>\n",
              "    </tr>\n",
              "    <tr>\n",
              "      <th>2994</th>\n",
              "      <td>2020-06-09</td>\n",
              "      <td>Venezuela</td>\n",
              "      <td>96</td>\n",
              "      <td>0</td>\n",
              "      <td>2473</td>\n",
              "      <td>22</td>\n",
              "    </tr>\n",
              "    <tr>\n",
              "      <th>2995</th>\n",
              "      <td>2020-06-10</td>\n",
              "      <td>Venezuela</td>\n",
              "      <td>159</td>\n",
              "      <td>1</td>\n",
              "      <td>2632</td>\n",
              "      <td>23</td>\n",
              "    </tr>\n",
              "  </tbody>\n",
              "</table>\n",
              "<p>1826 rows × 6 columns</p>\n",
              "</div>"
            ],
            "text/plain": [
              "           Date    Country  New Cases  New Deaths  Total Cases  Total Deaths\n",
              "83   2020-03-04  Argentina          1           0            1             0\n",
              "84   2020-03-06  Argentina          1           0            2             0\n",
              "85   2020-03-07  Argentina          6           0            8             0\n",
              "86   2020-03-08  Argentina          1           1            9             1\n",
              "87   2020-03-09  Argentina          3           0           12             1\n",
              "...         ...        ...        ...         ...          ...           ...\n",
              "2991 2020-06-06  Venezuela         58           0         2145            20\n",
              "2992 2020-06-07  Venezuela        171           2         2316            22\n",
              "2993 2020-06-08  Venezuela         61           0         2377            22\n",
              "2994 2020-06-09  Venezuela         96           0         2473            22\n",
              "2995 2020-06-10  Venezuela        159           1         2632            23\n",
              "\n",
              "[1826 rows x 6 columns]"
            ]
          },
          "metadata": {
            "tags": []
          },
          "execution_count": 43
        }
      ]
    },
    {
      "cell_type": "code",
      "metadata": {
        "id": "GtQEtlU8Xnju",
        "outputId": "01ed5dfc-3c9b-4279-c35f-00e6fd21a369",
        "colab": {
          "base_uri": "https://localhost:8080/",
          "height": 314
        }
      },
      "source": [
        "# Cases in Latam\n",
        "\n",
        "grouped_latam = latam_cases.groupby(\"Date\").sum()\n",
        "grouped_latam.plot(subplots=True) \n",
        "print(\"Total Cases: \", grouped_latam[\"Total Cases\"][-1])\n",
        "print(\"Total Deaths: \", grouped_latam[\"Total Deaths\"][-1])"
      ],
      "execution_count": 44,
      "outputs": [
        {
          "output_type": "stream",
          "text": [
            "Total Cases:  661377\n",
            "Total Deaths:  30700\n"
          ],
          "name": "stdout"
        },
        {
          "output_type": "display_data",
          "data": {
            "image/png": "[encoded data removed]",
            "text/plain": [
              "<Figure size 432x288 with 4 Axes>"
            ]
          },
          "metadata": {
            "tags": [],
            "needs_background": "light"
          }
        }
      ]
    },
    {
      "cell_type": "code",
      "metadata": {
        "id": "kPAKEjKdcMHp",
        "outputId": "3b942199-a7e5-4ac2-d820-dcb4c10547da",
        "colab": {
          "base_uri": "https://localhost:8080/",
          "height": 424
        }
      },
      "source": [
        "# Getting only Caribbean countries data\n",
        "\n",
        "caribbean_cases = df[~df['Country'].isin(latam)]\n",
        "caribbean_cases"
      ],
      "execution_count": 45,
      "outputs": [
        {
          "output_type": "execute_result",
          "data": {
            "text/html": [
              "<div>\n",
              "<style scoped>\n",
              "    .dataframe tbody tr th:only-of-type {\n",
              "        vertical-align: middle;\n",
              "    }\n",
              "\n",
              "    .dataframe tbody tr th {\n",
              "        vertical-align: top;\n",
              "    }\n",
              "\n",
              "    .dataframe thead th {\n",
              "        text-align: right;\n",
              "    }\n",
              "</style>\n",
              "<table border=\"1\" class=\"dataframe\">\n",
              "  <thead>\n",
              "    <tr style=\"text-align: right;\">\n",
              "      <th></th>\n",
              "      <th>Date</th>\n",
              "      <th>Country</th>\n",
              "      <th>New Cases</th>\n",
              "      <th>New Deaths</th>\n",
              "      <th>Total Cases</th>\n",
              "      <th>Total Deaths</th>\n",
              "    </tr>\n",
              "  </thead>\n",
              "  <tbody>\n",
              "    <tr>\n",
              "      <th>0</th>\n",
              "      <td>2020-03-15</td>\n",
              "      <td>Antigua and Barbuda</td>\n",
              "      <td>1</td>\n",
              "      <td>0</td>\n",
              "      <td>1</td>\n",
              "      <td>0</td>\n",
              "    </tr>\n",
              "    <tr>\n",
              "      <th>1</th>\n",
              "      <td>2020-03-21</td>\n",
              "      <td>Antigua and Barbuda</td>\n",
              "      <td>0</td>\n",
              "      <td>0</td>\n",
              "      <td>1</td>\n",
              "      <td>0</td>\n",
              "    </tr>\n",
              "    <tr>\n",
              "      <th>2</th>\n",
              "      <td>2020-03-22</td>\n",
              "      <td>Antigua and Barbuda</td>\n",
              "      <td>0</td>\n",
              "      <td>0</td>\n",
              "      <td>1</td>\n",
              "      <td>0</td>\n",
              "    </tr>\n",
              "    <tr>\n",
              "      <th>3</th>\n",
              "      <td>2020-03-23</td>\n",
              "      <td>Antigua and Barbuda</td>\n",
              "      <td>0</td>\n",
              "      <td>0</td>\n",
              "      <td>1</td>\n",
              "      <td>0</td>\n",
              "    </tr>\n",
              "    <tr>\n",
              "      <th>4</th>\n",
              "      <td>2020-03-24</td>\n",
              "      <td>Antigua and Barbuda</td>\n",
              "      <td>0</td>\n",
              "      <td>0</td>\n",
              "      <td>1</td>\n",
              "      <td>0</td>\n",
              "    </tr>\n",
              "    <tr>\n",
              "      <th>...</th>\n",
              "      <td>...</td>\n",
              "      <td>...</td>\n",
              "      <td>...</td>\n",
              "      <td>...</td>\n",
              "      <td>...</td>\n",
              "      <td>...</td>\n",
              "    </tr>\n",
              "    <tr>\n",
              "      <th>2815</th>\n",
              "      <td>2020-06-06</td>\n",
              "      <td>Trinidad and Tobago</td>\n",
              "      <td>0</td>\n",
              "      <td>0</td>\n",
              "      <td>117</td>\n",
              "      <td>8</td>\n",
              "    </tr>\n",
              "    <tr>\n",
              "      <th>2816</th>\n",
              "      <td>2020-06-07</td>\n",
              "      <td>Trinidad and Tobago</td>\n",
              "      <td>0</td>\n",
              "      <td>0</td>\n",
              "      <td>117</td>\n",
              "      <td>8</td>\n",
              "    </tr>\n",
              "    <tr>\n",
              "      <th>2817</th>\n",
              "      <td>2020-06-08</td>\n",
              "      <td>Trinidad and Tobago</td>\n",
              "      <td>0</td>\n",
              "      <td>0</td>\n",
              "      <td>117</td>\n",
              "      <td>8</td>\n",
              "    </tr>\n",
              "    <tr>\n",
              "      <th>2818</th>\n",
              "      <td>2020-06-09</td>\n",
              "      <td>Trinidad and Tobago</td>\n",
              "      <td>0</td>\n",
              "      <td>0</td>\n",
              "      <td>117</td>\n",
              "      <td>8</td>\n",
              "    </tr>\n",
              "    <tr>\n",
              "      <th>2819</th>\n",
              "      <td>2020-06-10</td>\n",
              "      <td>Trinidad and Tobago</td>\n",
              "      <td>0</td>\n",
              "      <td>0</td>\n",
              "      <td>117</td>\n",
              "      <td>8</td>\n",
              "    </tr>\n",
              "  </tbody>\n",
              "</table>\n",
              "<p>1170 rows × 6 columns</p>\n",
              "</div>"
            ],
            "text/plain": [
              "           Date              Country  ...  Total Cases  Total Deaths\n",
              "0    2020-03-15  Antigua and Barbuda  ...            1             0\n",
              "1    2020-03-21  Antigua and Barbuda  ...            1             0\n",
              "2    2020-03-22  Antigua and Barbuda  ...            1             0\n",
              "3    2020-03-23  Antigua and Barbuda  ...            1             0\n",
              "4    2020-03-24  Antigua and Barbuda  ...            1             0\n",
              "...         ...                  ...  ...          ...           ...\n",
              "2815 2020-06-06  Trinidad and Tobago  ...          117             8\n",
              "2816 2020-06-07  Trinidad and Tobago  ...          117             8\n",
              "2817 2020-06-08  Trinidad and Tobago  ...          117             8\n",
              "2818 2020-06-09  Trinidad and Tobago  ...          117             8\n",
              "2819 2020-06-10  Trinidad and Tobago  ...          117             8\n",
              "\n",
              "[1170 rows x 6 columns]"
            ]
          },
          "metadata": {
            "tags": []
          },
          "execution_count": 45
        }
      ]
    },
    {
      "cell_type": "code",
      "metadata": {
        "id": "xA7TgWjcchXU",
        "outputId": "75bf83d5-a47d-4548-fee3-f25885d80ad9",
        "colab": {
          "base_uri": "https://localhost:8080/",
          "height": 334
        }
      },
      "source": [
        "# Cases in Caribbean\n",
        "\n",
        "grouped_caribbean = caribbean_cases.groupby(\"Date\").sum()\n",
        "grouped_caribbean.plot(subplots=True) \n",
        "print(\"Total Cases: \", grouped_caribbean[\"Total Cases\"][-1])\n",
        "print(\"Total Deaths: \", grouped_caribbean[\"Total Deaths\"][-1])"
      ],
      "execution_count": 46,
      "outputs": [
        {
          "output_type": "stream",
          "text": [
            "Total Cases:  5019\n",
            "Total Deaths:  111\n"
          ],
          "name": "stdout"
        },
        {
          "output_type": "display_data",
          "data": {
            "image/png": "[encoded data removed]",
            "text/plain": [
              "<Figure size 432x288 with 4 Axes>"
            ]
          },
          "metadata": {
            "tags": [],
            "needs_background": "light"
          }
        }
      ]
    },
    {
      "cell_type": "code",
      "metadata": {
        "id": "o6NHKi-XcxnP",
        "outputId": "9cc5de7d-26a8-4c95-b2b4-16e7b7703974",
        "colab": {
          "base_uri": "https://localhost:8080/",
          "height": 545
        }
      },
      "source": [
        "# Building choropleth map of total cases in all countries\n",
        "\n",
        "!python -m pip install geopandas > /dev/null\n",
        "!python -m pip install descartes > /dev/null\n",
        "import geopandas\n",
        "\n",
        "mapa = geopandas.read_file('custom.geo.json').rename(columns={\"adm0_a3\": \"iso3\"})\n",
        "iso = pd.read_csv('iso.csv')\n",
        "last_registers = df[df['Date'] == '2020-06-10']\n",
        "with_iso = pd.merge(last_registers, iso, how='left', left_on='Country', right_on='name')\n",
        "mapa = mapa.merge(with_iso, on=\"iso3\")\n",
        "\n",
        "#plot merged file. use dropna to remove any country with no revenue value\n",
        "ax = mapa.plot(column='Total Cases', cmap =    \n",
        "                                'plasma', figsize=(15,9),   \n",
        "                                  k=3, legend =  \n",
        "                                  True);\n",
        "\n",
        "#add title to the map\n",
        "ax.set_title('Countries by Total Cases', fontdict= \n",
        "            {'fontsize':24})\n",
        "#remove axes\n",
        "ax.set_axis_off()\n",
        "#ax.get_figure()"
      ],
      "execution_count": 47,
      "outputs": [
        {
          "output_type": "display_data",
          "data": {
            "image/png": "[encoded data removed]",
            "text/plain": [
              "<Figure size 1080x648 with 2 Axes>"
            ]
          },
          "metadata": {
            "tags": [],
            "needs_background": "light"
          }
        }
      ]
    },
    {
      "cell_type": "code",
      "metadata": {
        "id": "bcqS_btYE0_c"
      },
      "source": [
        "\n",
        "# Dataset selection\n",
        "import numpy as np\n",
        "import matplotlib.pyplot as plt\n",
        "from sklearn.model_selection import train_test_split\n",
        "\n",
        "dataset = grouped.reset_index()\n",
        "trainX, testX, trainY, testY = train_test_split(np.float32(dataset.index), np.float32(dataset[\"Total Cases\"]))\n",
        "\n"
      ],
      "execution_count": 48,
      "outputs": []
    },
    {
      "cell_type": "code",
      "metadata": {
        "id": "YYV8-SPrK6lj",
        "outputId": "0e645fde-3b06-4b57-8695-ab0eb07d2843",
        "colab": {
          "base_uri": "https://localhost:8080/",
          "height": 345
        }
      },
      "source": [
        "# Model fitting and visualization\n",
        "\n",
        "from scipy import optimize\n",
        "\n",
        "def logistic_function(x: float, h: float, w: float, b: float):\n",
        "  return h / (1.0 + np.exp(-w * (x - b)))\n",
        "\n",
        "params, _ = optimize.curve_fit(logistic_function, trainX, trainY)\n",
        "mse = np.sum(np.square(testY - logistic_function(testX, *params))/len(testY))\n",
        "rmse = np.sqrt(mse)\n",
        "rrse = np.sqrt(np.sum(np.square(testY - logistic_function(testX, *params))) / np.sum(np.square(testY - np.mean(testY))))\n",
        "acc = (1 - rrse) * 100\n",
        "x = np.arange(0, 367)\n",
        "print(\"MSE: \", mse)\n",
        "print(\"RMSE: \", rmse)\n",
        "print(\"RRSE: \", rrse)\n",
        "print(\"Accuracy: \", acc, \"%\")\n",
        "plt.plot(pd.date_range(start=\"2019-12-31\", end=\"2020-12-31\"), logistic_function(x, *params), label='Predicted pandemy progression')\n",
        "plt.plot(dataset[\"Date\"], dataset[\"Total Cases\"], \"o\", label='Real pandemy progression')\n",
        "plt.legend()\n",
        "plt.show()\n"
      ],
      "execution_count": 49,
      "outputs": [
        {
          "output_type": "stream",
          "text": [
            "MSE:  35788344.0\n",
            "RMSE:  5982.336\n",
            "RRSE:  0.036180798\n",
            "Accuracy:  96.38192020356655 %\n"
          ],
          "name": "stdout"
        },
        {
          "output_type": "display_data",
          "data": {
            "image/png": "[encoded data removed]",
            "text/plain": [
              "<Figure size 432x288 with 1 Axes>"
            ]
          },
          "metadata": {
            "tags": [],
            "needs_background": "light"
          }
        }
      ]
    },
    {
      "cell_type": "code",
      "metadata": {
        "id": "OcIKquiQNuFH",
        "outputId": "6abd9ce7-7cc8-4ff6-c523-3132be9a3f2d",
        "colab": {
          "base_uri": "https://localhost:8080/",
          "height": 1000
        }
      },
      "source": [
        "\n",
        "ranking = last_registers.sort_values(\"Total Cases\", ascending=False).reset_index()\n",
        "ranking"
      ],
      "execution_count": 50,
      "outputs": [
        {
          "output_type": "execute_result",
          "data": {
            "text/html": [
              "<div>\n",
              "<style scoped>\n",
              "    .dataframe tbody tr th:only-of-type {\n",
              "        vertical-align: middle;\n",
              "    }\n",
              "\n",
              "    .dataframe tbody tr th {\n",
              "        vertical-align: top;\n",
              "    }\n",
              "\n",
              "    .dataframe thead th {\n",
              "        text-align: right;\n",
              "    }\n",
              "</style>\n",
              "<table border=\"1\" class=\"dataframe\">\n",
              "  <thead>\n",
              "    <tr style=\"text-align: right;\">\n",
              "      <th></th>\n",
              "      <th>index</th>\n",
              "      <th>Date</th>\n",
              "      <th>Country</th>\n",
              "      <th>New Cases</th>\n",
              "      <th>New Deaths</th>\n",
              "      <th>Total Cases</th>\n",
              "      <th>Total Deaths</th>\n",
              "    </tr>\n",
              "  </thead>\n",
              "  <tbody>\n",
              "    <tr>\n",
              "      <th>0</th>\n",
              "      <td>2402</td>\n",
              "      <td>2020-06-10</td>\n",
              "      <td>Peru</td>\n",
              "      <td>4040</td>\n",
              "      <td>167</td>\n",
              "      <td>203736</td>\n",
              "      <td>5738</td>\n",
              "    </tr>\n",
              "    <tr>\n",
              "      <th>1</th>\n",
              "      <td>615</td>\n",
              "      <td>2020-06-10</td>\n",
              "      <td>Chile</td>\n",
              "      <td>3913</td>\n",
              "      <td>19</td>\n",
              "      <td>142759</td>\n",
              "      <td>2283</td>\n",
              "    </tr>\n",
              "    <tr>\n",
              "      <th>2</th>\n",
              "      <td>2039</td>\n",
              "      <td>2020-06-10</td>\n",
              "      <td>Mexico</td>\n",
              "      <td>4199</td>\n",
              "      <td>596</td>\n",
              "      <td>124301</td>\n",
              "      <td>14649</td>\n",
              "    </tr>\n",
              "    <tr>\n",
              "      <th>3</th>\n",
              "      <td>1282</td>\n",
              "      <td>2020-06-10</td>\n",
              "      <td>Ecuador</td>\n",
              "      <td>539</td>\n",
              "      <td>48</td>\n",
              "      <td>43917</td>\n",
              "      <td>3690</td>\n",
              "    </tr>\n",
              "    <tr>\n",
              "      <th>4</th>\n",
              "      <td>707</td>\n",
              "      <td>2020-06-10</td>\n",
              "      <td>Colombia</td>\n",
              "      <td>1359</td>\n",
              "      <td>64</td>\n",
              "      <td>42078</td>\n",
              "      <td>1372</td>\n",
              "    </tr>\n",
              "    <tr>\n",
              "      <th>5</th>\n",
              "      <td>178</td>\n",
              "      <td>2020-06-10</td>\n",
              "      <td>Argentina</td>\n",
              "      <td>1141</td>\n",
              "      <td>24</td>\n",
              "      <td>24748</td>\n",
              "      <td>717</td>\n",
              "    </tr>\n",
              "    <tr>\n",
              "      <th>6</th>\n",
              "      <td>1124</td>\n",
              "      <td>2020-06-10</td>\n",
              "      <td>Dominican Republic</td>\n",
              "      <td>289</td>\n",
              "      <td>5</td>\n",
              "      <td>20415</td>\n",
              "      <td>544</td>\n",
              "    </tr>\n",
              "    <tr>\n",
              "      <th>7</th>\n",
              "      <td>2216</td>\n",
              "      <td>2020-06-10</td>\n",
              "      <td>Panama</td>\n",
              "      <td>379</td>\n",
              "      <td>5</td>\n",
              "      <td>17233</td>\n",
              "      <td>403</td>\n",
              "    </tr>\n",
              "    <tr>\n",
              "      <th>8</th>\n",
              "      <td>517</td>\n",
              "      <td>2020-06-10</td>\n",
              "      <td>Bolivia</td>\n",
              "      <td>695</td>\n",
              "      <td>12</td>\n",
              "      <td>14644</td>\n",
              "      <td>487</td>\n",
              "    </tr>\n",
              "    <tr>\n",
              "      <th>9</th>\n",
              "      <td>1534</td>\n",
              "      <td>2020-06-10</td>\n",
              "      <td>Guatemala</td>\n",
              "      <td>364</td>\n",
              "      <td>22</td>\n",
              "      <td>7866</td>\n",
              "      <td>289</td>\n",
              "    </tr>\n",
              "    <tr>\n",
              "      <th>10</th>\n",
              "      <td>1794</td>\n",
              "      <td>2020-06-10</td>\n",
              "      <td>Honduras</td>\n",
              "      <td>485</td>\n",
              "      <td>9</td>\n",
              "      <td>6935</td>\n",
              "      <td>271</td>\n",
              "    </tr>\n",
              "    <tr>\n",
              "      <th>11</th>\n",
              "      <td>1705</td>\n",
              "      <td>2020-06-10</td>\n",
              "      <td>Haiti</td>\n",
              "      <td>124</td>\n",
              "      <td>2</td>\n",
              "      <td>3662</td>\n",
              "      <td>56</td>\n",
              "    </tr>\n",
              "    <tr>\n",
              "      <th>12</th>\n",
              "      <td>1366</td>\n",
              "      <td>2020-06-10</td>\n",
              "      <td>El Salvador</td>\n",
              "      <td>87</td>\n",
              "      <td>2</td>\n",
              "      <td>3191</td>\n",
              "      <td>60</td>\n",
              "    </tr>\n",
              "    <tr>\n",
              "      <th>13</th>\n",
              "      <td>2995</td>\n",
              "      <td>2020-06-10</td>\n",
              "      <td>Venezuela</td>\n",
              "      <td>159</td>\n",
              "      <td>1</td>\n",
              "      <td>2632</td>\n",
              "      <td>23</td>\n",
              "    </tr>\n",
              "    <tr>\n",
              "      <th>14</th>\n",
              "      <td>890</td>\n",
              "      <td>2020-06-10</td>\n",
              "      <td>Cuba</td>\n",
              "      <td>5</td>\n",
              "      <td>0</td>\n",
              "      <td>2205</td>\n",
              "      <td>83</td>\n",
              "    </tr>\n",
              "    <tr>\n",
              "      <th>15</th>\n",
              "      <td>802</td>\n",
              "      <td>2020-06-10</td>\n",
              "      <td>Costa Rica</td>\n",
              "      <td>33</td>\n",
              "      <td>1</td>\n",
              "      <td>1375</td>\n",
              "      <td>11</td>\n",
              "    </tr>\n",
              "    <tr>\n",
              "      <th>16</th>\n",
              "      <td>2123</td>\n",
              "      <td>2020-06-10</td>\n",
              "      <td>Nicaragua</td>\n",
              "      <td>0</td>\n",
              "      <td>0</td>\n",
              "      <td>1309</td>\n",
              "      <td>46</td>\n",
              "    </tr>\n",
              "    <tr>\n",
              "      <th>17</th>\n",
              "      <td>2307</td>\n",
              "      <td>2020-06-10</td>\n",
              "      <td>Paraguay</td>\n",
              "      <td>42</td>\n",
              "      <td>0</td>\n",
              "      <td>1187</td>\n",
              "      <td>11</td>\n",
              "    </tr>\n",
              "    <tr>\n",
              "      <th>18</th>\n",
              "      <td>2907</td>\n",
              "      <td>2020-06-10</td>\n",
              "      <td>Uruguay</td>\n",
              "      <td>1</td>\n",
              "      <td>0</td>\n",
              "      <td>846</td>\n",
              "      <td>23</td>\n",
              "    </tr>\n",
              "    <tr>\n",
              "      <th>19</th>\n",
              "      <td>1884</td>\n",
              "      <td>2020-06-10</td>\n",
              "      <td>Jamaica</td>\n",
              "      <td>6</td>\n",
              "      <td>0</td>\n",
              "      <td>605</td>\n",
              "      <td>10</td>\n",
              "    </tr>\n",
              "    <tr>\n",
              "      <th>20</th>\n",
              "      <td>1622</td>\n",
              "      <td>2020-06-10</td>\n",
              "      <td>Guyana</td>\n",
              "      <td>2</td>\n",
              "      <td>0</td>\n",
              "      <td>156</td>\n",
              "      <td>12</td>\n",
              "    </tr>\n",
              "    <tr>\n",
              "      <th>21</th>\n",
              "      <td>2729</td>\n",
              "      <td>2020-06-10</td>\n",
              "      <td>Suriname</td>\n",
              "      <td>7</td>\n",
              "      <td>0</td>\n",
              "      <td>137</td>\n",
              "      <td>2</td>\n",
              "    </tr>\n",
              "    <tr>\n",
              "      <th>22</th>\n",
              "      <td>2819</td>\n",
              "      <td>2020-06-10</td>\n",
              "      <td>Trinidad and Tobago</td>\n",
              "      <td>0</td>\n",
              "      <td>0</td>\n",
              "      <td>117</td>\n",
              "      <td>8</td>\n",
              "    </tr>\n",
              "    <tr>\n",
              "      <th>23</th>\n",
              "      <td>263</td>\n",
              "      <td>2020-06-10</td>\n",
              "      <td>Bahamas</td>\n",
              "      <td>0</td>\n",
              "      <td>0</td>\n",
              "      <td>103</td>\n",
              "      <td>11</td>\n",
              "    </tr>\n",
              "    <tr>\n",
              "      <th>24</th>\n",
              "      <td>348</td>\n",
              "      <td>2020-06-10</td>\n",
              "      <td>Barbados</td>\n",
              "      <td>0</td>\n",
              "      <td>0</td>\n",
              "      <td>92</td>\n",
              "      <td>7</td>\n",
              "    </tr>\n",
              "    <tr>\n",
              "      <th>25</th>\n",
              "      <td>2646</td>\n",
              "      <td>2020-06-10</td>\n",
              "      <td>Saint Vincent and the Grenadines</td>\n",
              "      <td>0</td>\n",
              "      <td>0</td>\n",
              "      <td>27</td>\n",
              "      <td>0</td>\n",
              "    </tr>\n",
              "    <tr>\n",
              "      <th>26</th>\n",
              "      <td>82</td>\n",
              "      <td>2020-06-10</td>\n",
              "      <td>Antigua and Barbuda</td>\n",
              "      <td>0</td>\n",
              "      <td>0</td>\n",
              "      <td>26</td>\n",
              "      <td>3</td>\n",
              "    </tr>\n",
              "    <tr>\n",
              "      <th>27</th>\n",
              "      <td>1446</td>\n",
              "      <td>2020-06-10</td>\n",
              "      <td>Grenada</td>\n",
              "      <td>0</td>\n",
              "      <td>0</td>\n",
              "      <td>23</td>\n",
              "      <td>0</td>\n",
              "    </tr>\n",
              "    <tr>\n",
              "      <th>28</th>\n",
              "      <td>427</td>\n",
              "      <td>2020-06-10</td>\n",
              "      <td>Belize</td>\n",
              "      <td>0</td>\n",
              "      <td>0</td>\n",
              "      <td>19</td>\n",
              "      <td>2</td>\n",
              "    </tr>\n",
              "    <tr>\n",
              "      <th>29</th>\n",
              "      <td>2567</td>\n",
              "      <td>2020-06-10</td>\n",
              "      <td>Saint Lucia</td>\n",
              "      <td>0</td>\n",
              "      <td>0</td>\n",
              "      <td>19</td>\n",
              "      <td>0</td>\n",
              "    </tr>\n",
              "    <tr>\n",
              "      <th>30</th>\n",
              "      <td>970</td>\n",
              "      <td>2020-06-10</td>\n",
              "      <td>Dominica</td>\n",
              "      <td>0</td>\n",
              "      <td>0</td>\n",
              "      <td>18</td>\n",
              "      <td>0</td>\n",
              "    </tr>\n",
              "    <tr>\n",
              "      <th>31</th>\n",
              "      <td>2479</td>\n",
              "      <td>2020-06-10</td>\n",
              "      <td>Saint Kitts and Nevis</td>\n",
              "      <td>0</td>\n",
              "      <td>0</td>\n",
              "      <td>15</td>\n",
              "      <td>0</td>\n",
              "    </tr>\n",
              "  </tbody>\n",
              "</table>\n",
              "</div>"
            ],
            "text/plain": [
              "    index       Date  ... Total Cases  Total Deaths\n",
              "0    2402 2020-06-10  ...      203736          5738\n",
              "1     615 2020-06-10  ...      142759          2283\n",
              "2    2039 2020-06-10  ...      124301         14649\n",
              "3    1282 2020-06-10  ...       43917          3690\n",
              "4     707 2020-06-10  ...       42078          1372\n",
              "5     178 2020-06-10  ...       24748           717\n",
              "6    1124 2020-06-10  ...       20415           544\n",
              "7    2216 2020-06-10  ...       17233           403\n",
              "8     517 2020-06-10  ...       14644           487\n",
              "9    1534 2020-06-10  ...        7866           289\n",
              "10   1794 2020-06-10  ...        6935           271\n",
              "11   1705 2020-06-10  ...        3662            56\n",
              "12   1366 2020-06-10  ...        3191            60\n",
              "13   2995 2020-06-10  ...        2632            23\n",
              "14    890 2020-06-10  ...        2205            83\n",
              "15    802 2020-06-10  ...        1375            11\n",
              "16   2123 2020-06-10  ...        1309            46\n",
              "17   2307 2020-06-10  ...        1187            11\n",
              "18   2907 2020-06-10  ...         846            23\n",
              "19   1884 2020-06-10  ...         605            10\n",
              "20   1622 2020-06-10  ...         156            12\n",
              "21   2729 2020-06-10  ...         137             2\n",
              "22   2819 2020-06-10  ...         117             8\n",
              "23    263 2020-06-10  ...         103            11\n",
              "24    348 2020-06-10  ...          92             7\n",
              "25   2646 2020-06-10  ...          27             0\n",
              "26     82 2020-06-10  ...          26             3\n",
              "27   1446 2020-06-10  ...          23             0\n",
              "28    427 2020-06-10  ...          19             2\n",
              "29   2567 2020-06-10  ...          19             0\n",
              "30    970 2020-06-10  ...          18             0\n",
              "31   2479 2020-06-10  ...          15             0\n",
              "\n",
              "[32 rows x 7 columns]"
            ]
          },
          "metadata": {
            "tags": []
          },
          "execution_count": 50
        }
      ]
    },
    {
      "cell_type": "code",
      "metadata": {
        "id": "nnABjLOmiJLa",
        "outputId": "81a4d0d7-164d-4da0-8563-6b716d463525",
        "colab": {
          "base_uri": "https://localhost:8080/",
          "height": 293
        }
      },
      "source": [
        "from datetime import datetime\n",
        "\n",
        "worlddata = pd.read_csv(\"https://raw.githubusercontent.com/owid/covid-19-data/master/public/data/owid-covid-data.csv\")\n",
        "celac_actual = worlddata[worlddata[\"iso_code\"].isin(with_iso[\"iso3\"])]\n",
        "groupped_celac = celac_actual[[\"date\", \"total_cases\"]].dropna().groupby(\"date\").sum()\n",
        "groupped_celac.index = pd.to_datetime(groupped_celac.index)\n",
        "x = x = np.arange(0, 367)\n",
        "plt.plot(pd.date_range(start=\"2019-12-31\", end=\"2020-12-31\"), logistic_function(x, *params), label='Predicted pandemy progression')\n",
        "plt.plot(groupped_celac.index, groupped_celac[\"total_cases\"], \"o\", label='Real pandemy progression')\n",
        "plt.legend()\n"
      ],
      "execution_count": 51,
      "outputs": [
        {
          "output_type": "execute_result",
          "data": {
            "text/plain": [
              "<matplotlib.legend.Legend at 0x7f01c5b42f98>"
            ]
          },
          "metadata": {
            "tags": []
          },
          "execution_count": 51
        },
        {
          "output_type": "display_data",
          "data": {
            "image/png": "[encoded data removed]",
            "text/plain": [
              "<Figure size 432x288 with 1 Axes>"
            ]
          },
          "metadata": {
            "tags": [],
            "needs_background": "light"
          }
        }
      ]
    },
    {
      "cell_type": "code",
      "metadata": {
        "id": "4QZccuNpX4UN"
      },
      "source": [
        "trainX, testX, trainY, testY = train_test_split(np.float32(groupped_celac.reset_index().index), np.float32(groupped_celac[\"total_cases\"]))\n",
        "params_new, _ = optimize.curve_fit(logistic_function, trainX, trainY)"
      ],
      "execution_count": 52,
      "outputs": []
    },
    {
      "cell_type": "code",
      "metadata": {
        "id": "RRqABcEczMMA",
        "outputId": "61476601-52f8-4f74-ef01-416bcd2a6ac0",
        "colab": {
          "base_uri": "https://localhost:8080/",
          "height": 293
        }
      },
      "source": [
        "plt.plot(pd.date_range(start=\"2019-12-31\", end=\"2020-12-31\"), logistic_function(x, *params_new), label='Predicted pandemy progression')\n",
        "plt.plot(groupped_celac.index, groupped_celac[\"total_cases\"], \"o\", label='Real pandemy progression')\n",
        "plt.legend()"
      ],
      "execution_count": 53,
      "outputs": [
        {
          "output_type": "execute_result",
          "data": {
            "text/plain": [
              "<matplotlib.legend.Legend at 0x7f01aecfe128>"
            ]
          },
          "metadata": {
            "tags": []
          },
          "execution_count": 53
        },
        {
          "output_type": "display_data",
          "data": {
            "image/png": "[encoded data removed]",
            "text/plain": [
              "<Figure size 432x288 with 1 Axes>"
            ]
          },
          "metadata": {
            "tags": [],
            "needs_background": "light"
          }
        }
      ]
    },
    {
      "cell_type": "code",
      "metadata": {
        "id": "N8N7GzoAy1CC"
      },
      "source": [
        ""
      ],
      "execution_count": 53,
      "outputs": []
    }
  ]
}